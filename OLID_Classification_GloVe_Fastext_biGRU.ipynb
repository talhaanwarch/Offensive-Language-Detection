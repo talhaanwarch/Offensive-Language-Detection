{
  "nbformat": 4,
  "nbformat_minor": 0,
  "metadata": {
    "colab": {
      "name": "OLIC_Classification_GRU.ipynb",
      "provenance": [],
      "collapsed_sections": [],
      "include_colab_link": true
    },
    "kernelspec": {
      "name": "python3",
      "display_name": "Python 3"
    },
    "accelerator": "GPU"
  },
  "cells": [
    {
      "cell_type": "markdown",
      "metadata": {
        "id": "view-in-github",
        "colab_type": "text"
      },
      "source": [
        "<a href=\"https://colab.research.google.com/github/talhaanwarch/Offensive-Language-Detection/blob/master/OLID_Classification_GloVe_Fastext_biGRU.ipynb\" target=\"_parent\"><img src=\"https://colab.research.google.com/assets/colab-badge.svg\" alt=\"Open In Colab\"/></a>"
      ]
    },
    {
      "cell_type": "code",
      "metadata": {
        "id": "8GhlQnoqqBy2",
        "colab_type": "code",
        "colab": {}
      },
      "source": [
        ""
      ],
      "execution_count": 0,
      "outputs": []
    },
    {
      "cell_type": "code",
      "metadata": {
        "id": "6pkvGyUqqCMG",
        "colab_type": "code",
        "outputId": "cba1ef98-ad26-45d0-a4c1-c5c81dea1f1b",
        "colab": {
          "base_uri": "https://localhost:8080/",
          "height": 34
        }
      },
      "source": [
        "from google.colab import drive\n",
        "drive.mount('/content/drive',force_remount=True)"
      ],
      "execution_count": 1,
      "outputs": [
        {
          "output_type": "stream",
          "text": [
            "Mounted at /content/drive\n"
          ],
          "name": "stdout"
        }
      ]
    },
    {
      "cell_type": "code",
      "metadata": {
        "id": "Nifo-yegqBrd",
        "colab_type": "code",
        "outputId": "f41f8bb1-cf5b-4b5a-ab59-4ed172ba4ed4",
        "colab": {
          "base_uri": "https://localhost:8080/",
          "height": 34
        }
      },
      "source": [
        "cd /content/drive/My Drive/dataset/OLID"
      ],
      "execution_count": 2,
      "outputs": [
        {
          "output_type": "stream",
          "text": [
            "/content/drive/My Drive/dataset/OLID\n"
          ],
          "name": "stdout"
        }
      ]
    },
    {
      "cell_type": "code",
      "metadata": {
        "id": "PIZVWJBiqPth",
        "colab_type": "code",
        "outputId": "f9bce027-298e-47a9-a5b3-877435014bef",
        "colab": {
          "base_uri": "https://localhost:8080/",
          "height": 52
        }
      },
      "source": [
        "ls"
      ],
      "execution_count": 3,
      "outputs": [
        {
          "output_type": "stream",
          "text": [
            "\u001b[0m\u001b[01;34mdata\u001b[0m/          \u001b[01;34mERNIE\u001b[0m/  paragram_300_sl999.txt  wiki-news-300d-1M.vec\n",
            "elmo-model.h5  \u001b[01;34mglove\u001b[0m/  requriemnt.txt          \u001b[01;34mword2vec\u001b[0m/\n"
          ],
          "name": "stdout"
        }
      ]
    },
    {
      "cell_type": "code",
      "metadata": {
        "id": "fnOwTGAXpLvI",
        "colab_type": "code",
        "outputId": "de2eb347-8054-4cca-95a4-ce11dd81309a",
        "colab": {
          "base_uri": "https://localhost:8080/",
          "height": 104
        }
      },
      "source": [
        "import numpy as np\n",
        "import re\n",
        "import nltk\n",
        "from nltk.corpus import stopwords\n",
        "import string\n",
        "import pandas as pd\n",
        "from nltk.stem import WordNetLemmatizer\n",
        "from nltk.corpus import stopwords\n",
        "nltk.download('stopwords')\n",
        "nltk.download('wordnet')"
      ],
      "execution_count": 4,
      "outputs": [
        {
          "output_type": "stream",
          "text": [
            "[nltk_data] Downloading package stopwords to /root/nltk_data...\n",
            "[nltk_data]   Package stopwords is already up-to-date!\n",
            "[nltk_data] Downloading package wordnet to /root/nltk_data...\n",
            "[nltk_data]   Package wordnet is already up-to-date!\n"
          ],
          "name": "stdout"
        },
        {
          "output_type": "execute_result",
          "data": {
            "text/plain": [
              "True"
            ]
          },
          "metadata": {
            "tags": []
          },
          "execution_count": 4
        }
      ]
    },
    {
      "cell_type": "code",
      "metadata": {
        "id": "qpYZxDnjpo32",
        "colab_type": "code",
        "colab": {}
      },
      "source": [
        "train=pd.read_csv( 'data/olid-training-v1.0.tsv',sep=\"\\t\")\n",
        "test=pd.read_csv('data/testset-levela.tsv',sep=\"\\t\")\n",
        "y_test=pd.read_csv( 'data/labels-levela.csv',header=None).iloc[:,-1]\n",
        "#OFF=0 \n",
        "#NOT=1"
      ],
      "execution_count": 0,
      "outputs": []
    },
    {
      "cell_type": "code",
      "metadata": {
        "id": "reTRftvWpUJk",
        "colab_type": "code",
        "outputId": "37337ec7-f3c3-4436-f357-e5cc0e86a22b",
        "colab": {
          "base_uri": "https://localhost:8080/",
          "height": 34
        }
      },
      "source": [
        "y_train=train['subtask_a']\n",
        "train=train['tweet']\n",
        "test=test['tweet']\n",
        "y_train=pd.factorize(y_train)[0]\n",
        "y_test=pd.factorize(y_test)[0]\n",
        "\n",
        "import collections\n",
        "collections.Counter(y_train)\n",
        "\n",
        "#Counter({0: 4400, 1: 8840})"
      ],
      "execution_count": 6,
      "outputs": [
        {
          "output_type": "execute_result",
          "data": {
            "text/plain": [
              "Counter({0: 4400, 1: 8840})"
            ]
          },
          "metadata": {
            "tags": []
          },
          "execution_count": 6
        }
      ]
    },
    {
      "cell_type": "code",
      "metadata": {
        "id": "qMwojEJFiiBY",
        "colab_type": "code",
        "colab": {
          "base_uri": "https://localhost:8080/",
          "height": 54
        },
        "outputId": "2d7d726e-ca6f-42d5-d6d4-5337e43efb05"
      },
      "source": [
        "x=train[323].lower().replace('@user','').replace('url','')\n",
        "x=re.sub('[^A-Za-z]', ' ', x)\n",
        "re.sub('http[s]?://(?:[a-zA-Z]|[0-9]|[$-_@.&+]|'\n",
        "        '[!*\\(\\),]|(?:%[0-9a-fA-F][0-9a-fA-F]))+','',x)"
      ],
      "execution_count": 7,
      "outputs": [
        {
          "output_type": "execute_result",
          "data": {
            "text/plain": [
              "'   you are grossly misinterpreting who is against this  people across all parties condemn this action  look no further than bill davis and brian mulroney to see that even conservatives think this is a horrible decision '"
            ]
          },
          "metadata": {
            "tags": []
          },
          "execution_count": 7
        }
      ]
    },
    {
      "cell_type": "code",
      "metadata": {
        "id": "0KkTgzF_q4s1",
        "colab_type": "code",
        "colab": {}
      },
      "source": [
        "# Creating the training corpus\n",
        "stop_words = set(stopwords.words(\"english\")) \n",
        "lemmatizer = WordNetLemmatizer()\n",
        "corpus_train = []\n",
        "for i in train:\n",
        "    x=i.lower()\n",
        "    x=x.replace('@user','')\n",
        "    x=x.replace('@[\\w\\-]+','')\n",
        "    #x=x.translate(str.maketrans('', '', string.punctuation))\n",
        "    x = re.sub('[^A-Za-z]', ' ', x)\n",
        "    #x=re.sub('\\s+',' ',x)\n",
        "    x=re.sub('http[s]?://(?:[a-zA-Z]|[0-9]|[$-_@.&+]|'\n",
        "        '[!*\\(\\),]|(?:%[0-9a-fA-F][0-9a-fA-F]))+','',x) #url\n",
        "    #x = [lemmatizer.lemmatize(token) for token in x.split(\" \")]\n",
        "    #x = [word for word in x if not word in stop_words]\n",
        "    #x=\" \".join(x)\n",
        "    corpus_train.append(x)    \n",
        "# Creating the training corpus\n",
        "corpus_test = []\n",
        "for i in test:\n",
        "    x=i.lower()\n",
        "    x=x.replace('@user','')\n",
        "    x=x.replace('@[\\w\\-]+','')\n",
        "    #x=x.translate(str.maketrans('', '', string.punctuation))\n",
        "    x = re.sub('[^A-Za-z]', ' ', x)\n",
        "    #x=re.sub('\\s+',' ',x)\n",
        "    x=re.sub('http[s]?://(?:[a-zA-Z]|[0-9]|[$-_@.&+]|'\n",
        "        '[!*\\(\\),]|(?:%[0-9a-fA-F][0-9a-fA-F]))+','',x) #url\n",
        "    #x = [lemmatizer.lemmatize(token) for token in x.split(\" \")]\n",
        "    #x = [word for word in x if not word in stop_words]\n",
        "    #x=\" \".join(x)\n",
        "    corpus_test.append(x) "
      ],
      "execution_count": 0,
      "outputs": []
    },
    {
      "cell_type": "code",
      "metadata": {
        "id": "HLASZNDSiYgV",
        "colab_type": "code",
        "colab": {
          "base_uri": "https://localhost:8080/",
          "height": 34
        },
        "outputId": "19cd801f-5df4-4547-a189-fe0a4527e2a6"
      },
      "source": [
        "corpus_train[0]"
      ],
      "execution_count": 9,
      "outputs": [
        {
          "output_type": "execute_result",
          "data": {
            "text/plain": [
              "' she should ask a few native americans what their take on this is '"
            ]
          },
          "metadata": {
            "tags": []
          },
          "execution_count": 9
        }
      ]
    },
    {
      "cell_type": "code",
      "metadata": {
        "id": "GyyHvozBq7kf",
        "colab_type": "code",
        "outputId": "edbd1426-aa26-4884-d54d-537b561e1e40",
        "colab": {
          "base_uri": "https://localhost:8080/",
          "height": 80
        }
      },
      "source": [
        "from keras.preprocessing.text import Tokenizer\n",
        "from keras.preprocessing import sequence\n",
        "max_words = 5000 #frequency of words to be kept\n",
        "max_len = 200\n",
        "\n",
        "tokenize = Tokenizer(num_words=max_words)\n",
        "tokenize.fit_on_texts(corpus_train)\n",
        "sequences = tokenize.texts_to_sequences(corpus_train)\n",
        "word_index = tokenize.word_index\n",
        "sequences_matrix = sequence.pad_sequences(sequences,maxlen=max_len)"
      ],
      "execution_count": 10,
      "outputs": [
        {
          "output_type": "stream",
          "text": [
            "Using TensorFlow backend.\n"
          ],
          "name": "stderr"
        },
        {
          "output_type": "display_data",
          "data": {
            "text/html": [
              "<p style=\"color: red;\">\n",
              "The default version of TensorFlow in Colab will soon switch to TensorFlow 2.x.<br>\n",
              "We recommend you <a href=\"https://www.tensorflow.org/guide/migrate\" target=\"_blank\">upgrade</a> now \n",
              "or ensure your notebook will continue to use TensorFlow 1.x via the <code>%tensorflow_version 1.x</code> magic:\n",
              "<a href=\"https://colab.research.google.com/notebooks/tensorflow_version.ipynb\" target=\"_blank\">more info</a>.</p>\n"
            ],
            "text/plain": [
              "<IPython.core.display.HTML object>"
            ]
          },
          "metadata": {
            "tags": []
          }
        }
      ]
    },
    {
      "cell_type": "code",
      "metadata": {
        "id": "sYN-06rwkCyJ",
        "colab_type": "code",
        "outputId": "825916bf-3658-446b-dc71-b542e99c9105",
        "colab": {
          "base_uri": "https://localhost:8080/",
          "height": 34
        }
      },
      "source": [
        "num_words = min(max_words, len(word_index)) + 1\n",
        "print(num_words)"
      ],
      "execution_count": 11,
      "outputs": [
        {
          "output_type": "stream",
          "text": [
            "5001\n"
          ],
          "name": "stdout"
        }
      ]
    },
    {
      "cell_type": "code",
      "metadata": {
        "id": "vlMA1Qwfg0EA",
        "colab_type": "code",
        "colab": {}
      },
      "source": [
        "embedding_path1 = \"wiki-news-300d-1M.vec\"\n",
        "embedding_path2 = \"glove/glove.840B.300d.txt\"\n",
        "embed_size = 300"
      ],
      "execution_count": 0,
      "outputs": []
    },
    {
      "cell_type": "code",
      "metadata": {
        "id": "TyxVJQ45rSW3",
        "colab_type": "code",
        "colab": {}
      },
      "source": [
        "def get_coefs(word,*arr):\n",
        "    return word, np.asarray(arr, dtype='float32')\n",
        "\n",
        "def build_matrix(embedding_path, word_index):\n",
        "    embedding_index = dict(get_coefs(*o.strip().split(\" \")) for o in open(embedding_path))\n",
        "\n",
        "    nb_words = min(max_words, len(word_index))\n",
        "    embedding_matrix = np.zeros((nb_words + 1, embed_size))\n",
        "    for word, i in word_index.items():\n",
        "        if i >= max_words:\n",
        "            continue\n",
        "        embedding_vector = embedding_index.get(word)\n",
        "        if embedding_vector is not None:\n",
        "            embedding_matrix[i] = embedding_vector\n",
        "    return embedding_matrix\n"
      ],
      "execution_count": 0,
      "outputs": []
    },
    {
      "cell_type": "code",
      "metadata": {
        "id": "zYUKY8LXkIoK",
        "colab_type": "code",
        "colab": {}
      },
      "source": [
        "fasttext=build_matrix(embedding_path1, word_index)\n",
        "glove_emb=build_matrix(embedding_path2, word_index)"
      ],
      "execution_count": 0,
      "outputs": []
    },
    {
      "cell_type": "code",
      "metadata": {
        "id": "v7uZ-HJ4ln2_",
        "colab_type": "code",
        "outputId": "6212febb-e837-45a5-a477-1c2c2c4b7ace",
        "colab": {
          "base_uri": "https://localhost:8080/",
          "height": 34
        }
      },
      "source": [
        "embedding_matrix=np.mean((fasttext,glove_emb),axis=0)\n",
        "embedding_matrix.shape"
      ],
      "execution_count": 15,
      "outputs": [
        {
          "output_type": "execute_result",
          "data": {
            "text/plain": [
              "(5001, 300)"
            ]
          },
          "metadata": {
            "tags": []
          },
          "execution_count": 15
        }
      ]
    },
    {
      "cell_type": "code",
      "metadata": {
        "id": "dLnt7QKJ8WzH",
        "colab_type": "code",
        "colab": {}
      },
      "source": [
        "test_sequences = tokenize.texts_to_sequences(corpus_test)\n",
        "test_sequences_matrix = sequence.pad_sequences(test_sequences,maxlen=max_len)"
      ],
      "execution_count": 0,
      "outputs": []
    },
    {
      "cell_type": "code",
      "metadata": {
        "id": "EVwNl2COnOTt",
        "colab_type": "code",
        "colab": {}
      },
      "source": [
        "from keras import backend as K\n",
        "def f1(y_true, y_pred):\n",
        "    '''\n",
        "    metric from here \n",
        "    https://stackoverflow.com/questions/43547402/how-to-calculate-f1-macro-in-keras\n",
        "    '''\n",
        "    def recall(y_true, y_pred):\n",
        "        \"\"\"Recall metric.\n",
        "\n",
        "        Only computes a batch-wise average of recall.\n",
        "\n",
        "        Computes the recall, a metric for multi-label classification of\n",
        "        how many relevant items are selected.\n",
        "        \"\"\"\n",
        "        true_positives = K.sum(K.round(K.clip(y_true * y_pred, 0, 1)))\n",
        "        possible_positives = K.sum(K.round(K.clip(y_true, 0, 1)))\n",
        "        recall = true_positives / (possible_positives + K.epsilon())\n",
        "        return recall\n",
        "\n",
        "    def precision(y_true, y_pred):\n",
        "        \"\"\"Precision metric.\n",
        "\n",
        "        Only computes a batch-wise average of precision.\n",
        "\n",
        "        Computes the precision, a metric for multi-label classification of\n",
        "        how many selected items are relevant.\n",
        "        \"\"\"\n",
        "        true_positives = K.sum(K.round(K.clip(y_true * y_pred, 0, 1)))\n",
        "        predicted_positives = K.sum(K.round(K.clip(y_pred, 0, 1)))\n",
        "        precision = true_positives / (predicted_positives + K.epsilon())\n",
        "        return precision\n",
        "    precision = precision(y_true, y_pred)\n",
        "    recall = recall(y_true, y_pred)\n",
        "    return 2*((precision*recall)/(precision+recall+K.epsilon()))"
      ],
      "execution_count": 0,
      "outputs": []
    },
    {
      "cell_type": "code",
      "metadata": {
        "id": "NXVeADVjFDEG",
        "colab_type": "code",
        "colab": {}
      },
      "source": [
        "from keras.callbacks import Callback\n",
        "class EarlyStoppingByAccuracy(Callback):\n",
        "    def __init__(self, monitor='val_f1', value=0.87, verbose=0):\n",
        "        super(Callback, self).__init__()\n",
        "        self.monitor = monitor\n",
        "        self.value = value\n",
        "        self.verbose = verbose\n",
        "\n",
        "    def on_epoch_end(self, epoch, logs={}):\n",
        "        current = logs.get(self.monitor)\n",
        "        if current is None:\n",
        "            warnings.warn(\"Early stopping requires %s available!\" % self.monitor, RuntimeWarning)\n",
        "\n",
        "        if current >= self.value:\n",
        "            if self.verbose > 0:\n",
        "                print(\"Epoch %05d: early stopping THR\" % epoch)\n",
        "            self.model.stop_training = True"
      ],
      "execution_count": 0,
      "outputs": []
    },
    {
      "cell_type": "code",
      "metadata": {
        "id": "9QwiUz7VFJPz",
        "colab_type": "code",
        "colab": {}
      },
      "source": [
        "callbacks = EarlyStoppingByAccuracy(monitor='val_f1', value=0.89, verbose=1)"
      ],
      "execution_count": 0,
      "outputs": []
    },
    {
      "cell_type": "code",
      "metadata": {
        "id": "HkMkKWsJrzeN",
        "colab_type": "code",
        "outputId": "cbacbb96-ee20-4c43-8b35-7e73e9217fd5",
        "colab": {
          "base_uri": "https://localhost:8080/",
          "height": 345
        }
      },
      "source": [
        "from keras.models import Sequential,Model\n",
        "from keras.layers import Embedding,CuDNNGRU,Dense,Dropout,Bidirectional,GlobalMaxPool1D,GlobalAveragePooling1D, SpatialDropout1D,concatenate,Input\n",
        "from keras.optimizers import RMSprop\n",
        "from keras.initializers import Constant\n",
        "from sklearn.utils import class_weight\n",
        "from keras.callbacks import ModelCheckpoint\n",
        "import tensorflow as tf\n",
        "tf.logging.set_verbosity(tf.logging.ERROR)\n",
        "\n",
        "inp=Input(shape=(max_len, ))\n",
        "x=Embedding(num_words,embed_size,embeddings_initializer=Constant(embedding_matrix),input_length=max_len,trainable=False)(inp)\n",
        "x = SpatialDropout1D(0.2)(x)\n",
        "x=Bidirectional(CuDNNGRU(150, return_sequences = True))(x)\n",
        "avg_pool = GlobalAveragePooling1D()(x)\n",
        "max_pool = GlobalMaxPool1D()(x)\n",
        "conc = concatenate([avg_pool, max_pool])\n",
        "\n",
        "\n",
        "x=Dropout(0.1)(conc)\n",
        "out=Dense(64, activation=\"relu\")(x)\n",
        "out=Dense(32, activation=\"relu\")(x)\n",
        "\n",
        "out=Dense(1, activation=\"sigmoid\")(x)\n",
        "\n",
        "model=Model(inp,out)\n",
        "\n",
        "mcp_save = ModelCheckpoint('.mdl_wts.hdf5', save_best_only=True, monitor='val_loss', mode='min')\n",
        "\n",
        "\n",
        "model.compile(loss='binary_crossentropy', optimizer='adam', metrics=[f1])\n",
        "\n",
        "class_weights = class_weight.compute_class_weight('balanced',np.unique(y_train),y_train)\n",
        "class_weights=dict(enumerate(class_weights))\n",
        "\n",
        "model.fit(sequences_matrix,y_train,batch_size=128,epochs=10,verbose=2,class_weight=class_weights,\n",
        "          validation_data=(test_sequences_matrix,y_test),callbacks=[mcp_save,callbacks])"
      ],
      "execution_count": 53,
      "outputs": [
        {
          "output_type": "stream",
          "text": [
            "Train on 13240 samples, validate on 860 samples\n",
            "Epoch 1/10\n",
            " - 6s - loss: 0.5736 - f1: 0.7406 - val_loss: 0.4379 - val_f1: 0.8610\n",
            "Epoch 2/10\n",
            " - 6s - loss: 0.5033 - f1: 0.8199 - val_loss: 0.4491 - val_f1: 0.8565\n",
            "Epoch 3/10\n",
            " - 6s - loss: 0.4904 - f1: 0.8233 - val_loss: 0.4511 - val_f1: 0.8564\n",
            "Epoch 4/10\n",
            " - 6s - loss: 0.4827 - f1: 0.8247 - val_loss: 0.4089 - val_f1: 0.8734\n",
            "Epoch 5/10\n",
            " - 6s - loss: 0.4690 - f1: 0.8333 - val_loss: 0.4003 - val_f1: 0.8776\n",
            "Epoch 6/10\n",
            " - 6s - loss: 0.4589 - f1: 0.8397 - val_loss: 0.3919 - val_f1: 0.8766\n",
            "Epoch 7/10\n",
            " - 6s - loss: 0.4436 - f1: 0.8427 - val_loss: 0.3836 - val_f1: 0.8871\n",
            "Epoch 8/10\n",
            " - 6s - loss: 0.4320 - f1: 0.8517 - val_loss: 0.3699 - val_f1: 0.8988\n",
            "Epoch 00007: early stopping THR\n"
          ],
          "name": "stdout"
        },
        {
          "output_type": "execute_result",
          "data": {
            "text/plain": [
              "<keras.callbacks.History at 0x7fb48d4677b8>"
            ]
          },
          "metadata": {
            "tags": []
          },
          "execution_count": 53
        }
      ]
    },
    {
      "cell_type": "code",
      "metadata": {
        "id": "1BD-ntr8rznW",
        "colab_type": "code",
        "outputId": "728bfc76-01a2-4f6e-c0e8-37ee5a231abd",
        "colab": {
          "base_uri": "https://localhost:8080/",
          "height": 52
        }
      },
      "source": [
        "\n",
        "print(model.evaluate(test_sequences_matrix,y_test))"
      ],
      "execution_count": 54,
      "outputs": [
        {
          "output_type": "stream",
          "text": [
            "860/860 [==============================] - 0s 318us/step\n",
            "[0.36989111054775325, 0.8975358347560084]\n"
          ],
          "name": "stdout"
        }
      ]
    },
    {
      "cell_type": "code",
      "metadata": {
        "id": "u-fKEe-4rzp4",
        "colab_type": "code",
        "outputId": "c62c2079-4eb3-43fd-b123-e145e2a3411e",
        "colab": {
          "base_uri": "https://localhost:8080/",
          "height": 190
        }
      },
      "source": [
        "from sklearn.metrics import classification_report\n",
        "\n",
        "y_pred = model.predict(test_sequences_matrix, batch_size=128, verbose=1)\n",
        "y_pred_bool = np.argmax(y_pred, axis=1)\n",
        "y_pred = (y_pred > 0.5)\n",
        "\n",
        "print(classification_report(y_test, y_pred))\n"
      ],
      "execution_count": 55,
      "outputs": [
        {
          "output_type": "stream",
          "text": [
            "860/860 [==============================] - 0s 263us/step\n",
            "              precision    recall  f1-score   support\n",
            "\n",
            "           0       0.77      0.68      0.72       240\n",
            "           1       0.88      0.92      0.90       620\n",
            "\n",
            "    accuracy                           0.85       860\n",
            "   macro avg       0.82      0.80      0.81       860\n",
            "weighted avg       0.85      0.85      0.85       860\n",
            "\n"
          ],
          "name": "stdout"
        }
      ]
    },
    {
      "cell_type": "code",
      "metadata": {
        "id": "4LtnRxVRmNcl",
        "colab_type": "code",
        "outputId": "4b7fab50-749d-4496-a7c0-28c753a7d78c",
        "colab": {
          "base_uri": "https://localhost:8080/",
          "height": 34
        }
      },
      "source": [
        "from sklearn.metrics import confusion_matrix, f1_score, precision_score, recall_score\n",
        "f1_score(y_test, y_pred, average=\"weighted\")"
      ],
      "execution_count": 56,
      "outputs": [
        {
          "output_type": "execute_result",
          "data": {
            "text/plain": [
              "0.8494981724596617"
            ]
          },
          "metadata": {
            "tags": []
          },
          "execution_count": 56
        }
      ]
    },
    {
      "cell_type": "code",
      "metadata": {
        "id": "72QjwwRRrzsu",
        "colab_type": "code",
        "colab": {}
      },
      "source": [
        "import keras\n",
        "keras.backend.clear_session()"
      ],
      "execution_count": 0,
      "outputs": []
    },
    {
      "cell_type": "code",
      "metadata": {
        "id": "4o9xT3kjyc7W",
        "colab_type": "code",
        "colab": {}
      },
      "source": [
        ""
      ],
      "execution_count": 0,
      "outputs": []
    }
  ]
}